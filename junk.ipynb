{
 "cells": [
  {
   "cell_type": "code",
   "execution_count": 100,
   "metadata": {},
   "outputs": [
    {
     "name": "stdout",
     "output_type": "stream",
     "text": [
      "   Student ID     student_name gender grade        school_name  reading_score  \\\n",
      "0           0     Paul Bradley      M   9th  Huang High School             66   \n",
      "1           1     Victor Smith      M  12th  Huang High School             94   \n",
      "2           2  Kevin Rodriguez      M  12th  Huang High School             90   \n",
      "3           3    Richard Scott      M  12th  Huang High School             67   \n",
      "4           4       Bonnie Ray      F   9th  Huang High School             97   \n",
      "\n",
      "   math_score  School ID      type  size   budget  \n",
      "0          79          0  District  2917  1910635  \n",
      "1          61          0  District  2917  1910635  \n",
      "2          60          0  District  2917  1910635  \n",
      "3          58          0  District  2917  1910635  \n",
      "4          84          0  District  2917  1910635  \n"
     ]
    },
    {
     "data": {
      "text/plain": [
       "school_name\n",
       "Bailey High School       81.933280\n",
       "Cabrera High School      97.039828\n",
       "Figueroa High School     80.739234\n",
       "Ford High School         79.299014\n",
       "Griffin High School      97.138965\n",
       "Hernandez High School    80.862999\n",
       "Holden High School       96.252927\n",
       "Huang High School        81.316421\n",
       "Johnson High School      81.222432\n",
       "Pena High School         95.945946\n",
       "Rodriguez High School    80.220055\n",
       "Shelton High School      95.854628\n",
       "Thomas High School       97.308869\n",
       "Wilson High School       96.539641\n",
       "Wright High School       96.611111\n",
       "Name: student_name, dtype: float64"
      ]
     },
     "execution_count": 100,
     "metadata": {},
     "output_type": "execute_result"
    }
   ],
   "source": [
    "# Import pandas.\n",
    "import pandas as pd\n",
    "\n",
    "school_data_to_load = \"Resources/schools_complete.csv\"\n",
    "student_data_to_load = \"Resources/students_complete.csv\"\n",
    "\n",
    "school_data_df = pd.read_csv(school_data_to_load)\n",
    "school_data_df\n",
    "\n",
    "student_data_df = pd.read_csv(student_data_to_load)\n",
    "student_data_df\n",
    "\n",
    "# Add each prefix and suffix to remove to a list.\n",
    "prefixes_suffixes = [\"Dr. \", \"Mr. \",\"Ms. \", \"Mrs. \", \"Miss \", \" MD\", \" DDS\", \" DVM\", \" PhD\"]\n",
    "# Iterate through the words in the \"prefixes_suffixes\" list and replace them with an empty space, \"\".\n",
    "for word in prefixes_suffixes:\n",
    "    student_data_df[\"student_name\"] = student_data_df[\"student_name\"].str.replace(word,\"\")\n",
    "student_data_df\n",
    "\n",
    "# Combine the data into a single dataset.\n",
    "school_data_complete_df = pd.merge(student_data_df, school_data_df, on=[\"school_name\", \"school_name\"])\n",
    "print(school_data_complete_df.head())\n",
    "\n",
    "# Determine the school type(Set main index)\n",
    "per_school_types = school_data_df.set_index([\"school_name\"])[\"type\"]\n",
    "per_school_types\n",
    "# Add the per_school_types into a DataFrame for testing.\n",
    "df = pd.DataFrame(per_school_types)\n",
    "df\n",
    "\n",
    "total_school = school_data_complete_df[\"school_name\"].value_counts() \n",
    "total_school\n",
    "\n",
    "total_student = school_data_complete_df[\"student_name\"].count() \n",
    "total_student\n",
    "\n",
    "#\n",
    "total_students_per_school = school_data_complete_df.groupby([\"school_name\"]).count()[\"student_name\"]\n",
    "total_students_per_school\n",
    "\n",
    "total_budget_per_school = school_data_df.set_index([\"school_name\"])[\"budget\"] # make sure to use set_index() function\n",
    "total_budget_per_school\n",
    "\n",
    "#\n",
    "student_budget_per_school = total_budget_per_school / total_students_per_school\n",
    "student_budget_per_school\n",
    "\n",
    "#\n",
    "average_math_per_school = school_data_complete_df.groupby([\"school_name\"]).mean()[\"math_score\"]\n",
    "average_math_per_school\n",
    "average_reading_per_school = school_data_complete_df.groupby([\"school_name\"]).mean()[\"reading_score\"]\n",
    "average_reading_per_school\n",
    "\n",
    "student_pass_math = school_data_complete_df[school_data_complete_df[\"math_score\"] >= 70]\n",
    "student_pass_math\n",
    "student_pass_reading = school_data_complete_df[school_data_complete_df[\"reading_score\"] >= 70]\n",
    "student_pass_reading\n",
    "\n",
    "pass_math_per_school = student_pass_math.groupby([\"school_name\"]).count()[\"student_name\"] #Confusing \n",
    "pass_math_per_school\n",
    "pass_reading_per_school = student_pass_reading.groupby([\"school_name\"]).count()[\"student_name\"] #Confusing\n",
    "pass_reading_per_school\n",
    "\n",
    "#\n",
    "percentage_pass_math_per_school = pass_math_per_school / total_students_per_school * 100\n",
    "percentage_pass_math_per_school\n",
    "percentage_pass_reading_per_school = pass_reading_per_school / total_students_per_school * 100\n",
    "percentage_pass_reading_per_school\n",
    "\n",
    "\n"
   ]
  },
  {
   "cell_type": "code",
   "execution_count": null,
   "metadata": {},
   "outputs": [],
   "source": []
  },
  {
   "cell_type": "code",
   "execution_count": null,
   "metadata": {},
   "outputs": [],
   "source": []
  },
  {
   "cell_type": "code",
   "execution_count": null,
   "metadata": {},
   "outputs": [],
   "source": []
  }
 ],
 "metadata": {
  "kernelspec": {
   "display_name": "PythonData",
   "language": "python",
   "name": "pythondata"
  },
  "language_info": {
   "codemirror_mode": {
    "name": "ipython",
    "version": 3
   },
   "file_extension": ".py",
   "mimetype": "text/x-python",
   "name": "python",
   "nbconvert_exporter": "python",
   "pygments_lexer": "ipython3",
   "version": "3.7.9"
  }
 },
 "nbformat": 4,
 "nbformat_minor": 4
}
